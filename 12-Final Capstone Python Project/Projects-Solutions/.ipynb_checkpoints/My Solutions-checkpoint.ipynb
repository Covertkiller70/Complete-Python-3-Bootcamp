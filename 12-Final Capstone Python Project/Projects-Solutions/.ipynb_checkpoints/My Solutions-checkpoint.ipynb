{
 "cells": [
  {
   "cell_type": "markdown",
   "metadata": {},
   "source": [
    "# Numbers"
   ]
  },
  {
   "cell_type": "markdown",
   "metadata": {},
   "source": [
    "Find PI to the Nth Digit "
   ]
  },
  {
   "cell_type": "code",
   "execution_count": 3,
   "metadata": {},
   "outputs": [
    {
     "name": "stdout",
     "output_type": "stream",
     "text": [
      "How far back pi do you want to go? 1-16: 5\n",
      "3.141592653589793\n",
      "     5\n"
     ]
    }
   ],
   "source": [
    "import math\n",
    "\n",
    "pi = str(math.pi)\n",
    "end = len(pi) - 1 \n",
    "nth = input('How far back pi do you want to go? 1-' + str(end) + ': ')\n",
    "\n",
    "try:\n",
    "    nth = int(nth)\n",
    "except: \n",
    "    print(str(nth) + ' is not a number!')\n",
    "    exit(0)\n",
    "\n",
    "if nth > 0 and nth < len(pi):    \n",
    "    print(pi)\n",
    "    if nth == 1:\n",
    "        print(pi[0])\n",
    "    else:\n",
    "        space = ''\n",
    "        for i in range(0, nth):\n",
    "            space += ' '\n",
    "        \n",
    "        print(space + pi[nth])\n",
    "else:\n",
    "    print('Enter a number between 1 and ' + str(end) + '!')"
   ]
  },
  {
   "cell_type": "markdown",
   "metadata": {},
   "source": [
    "Find E to the Nth Digit "
   ]
  },
  {
   "cell_type": "code",
   "execution_count": 4,
   "metadata": {},
   "outputs": [
    {
     "name": "stdout",
     "output_type": "stream",
     "text": [
      "How far back e do you want to go? 1-16: 8\n",
      "2.718281828459045\n",
      "        8\n"
     ]
    }
   ],
   "source": [
    "import math\n",
    "\n",
    "e = str(math.e)\n",
    "end = len(e) - 1 \n",
    "nth = input('How far back e do you want to go? 1-' + str(end) + ': ')\n",
    "\n",
    "try:\n",
    "    nth = int(nth)\n",
    "except: \n",
    "    print(str(nth) + ' is not a number!')\n",
    "    exit(0)\n",
    "\n",
    "if nth > 0 and nth < len(e):    \n",
    "    print(e)\n",
    "    if nth == 1:\n",
    "        print(e[0])\n",
    "    else:        \n",
    "        space = ''\n",
    "        for i in range(0, nth):\n",
    "            space += ' '\n",
    "        print(space + e[nth])\n",
    "else:\n",
    "    print('Enter a number between 1 and ' + str(end) + '!')"
   ]
  },
  {
   "cell_type": "markdown",
   "metadata": {},
   "source": [
    "Fibonacci"
   ]
  },
  {
   "cell_type": "code",
   "execution_count": 6,
   "metadata": {},
   "outputs": [
    {
     "name": "stdout",
     "output_type": "stream",
     "text": [
      "Enter a number of times to run: 5\n",
      "[0, 1, 1, 2, 3, 5]\n"
     ]
    }
   ],
   "source": [
    "n = input('Enter a number of times to run: ')\n",
    "\n",
    "try:\n",
    "    n = int(n)\n",
    "except:\n",
    "    print(n + ' is not a number!')\n",
    "    exit(0)\n",
    "seq = list()\n",
    "for i in range(0,n+1):\n",
    "    if i > 1:\n",
    "        last1 = seq[-1]\n",
    "        last2 = seq[-2]\n",
    "        seq.append(last1+last2)\n",
    "    else:\n",
    "        seq.append(i)\n",
    "print(seq)"
   ]
  },
  {
   "cell_type": "markdown",
   "metadata": {},
   "source": [
    "Factorization"
   ]
  },
  {
   "cell_type": "code",
   "execution_count": null,
   "metadata": {},
   "outputs": [],
   "source": []
  },
  {
   "cell_type": "markdown",
   "metadata": {},
   "source": [
    "Next Prime Number"
   ]
  },
  {
   "cell_type": "code",
   "execution_count": null,
   "metadata": {},
   "outputs": [],
   "source": []
  },
  {
   "cell_type": "markdown",
   "metadata": {},
   "source": [
    "Find Cost of Tile to Cover W x H Floor"
   ]
  },
  {
   "cell_type": "code",
   "execution_count": 8,
   "metadata": {
    "scrolled": true
   },
   "outputs": [
    {
     "name": "stdout",
     "output_type": "stream",
     "text": [
      "How much does each tile cost?: 20\n",
      "How many feet wide?: 60\n",
      "How many feet long?: 25\n",
      "$30000\n"
     ]
    }
   ],
   "source": [
    "price = int(input(\"How much does each tile cost?: \"))\n",
    "width = int(input(\"How many feet wide?: \"))\n",
    "height = int(input(\"How many feet long?: \"))\n",
    "\n",
    "cost = price * width * height\n",
    "print(\"$\" + str(cost))"
   ]
  },
  {
   "cell_type": "markdown",
   "metadata": {},
   "source": [
    "**Mortgage Calculator**Calculate the monthly payments of a fixed term mortgage over given Nth terms at a given interest rate. Also figure out how long it will take the user to pay back the loan. For added complexity, add an option for users to select the compounding interval (Monthly, Weekly, Daily, Continually)."
   ]
  },
  {
   "cell_type": "code",
   "execution_count": null,
   "metadata": {},
   "outputs": [],
   "source": []
  }
 ],
 "metadata": {
  "kernelspec": {
   "display_name": "Python 3",
   "language": "python",
   "name": "python3"
  },
  "language_info": {
   "codemirror_mode": {
    "name": "ipython",
    "version": 3
   },
   "file_extension": ".py",
   "mimetype": "text/x-python",
   "name": "python",
   "nbconvert_exporter": "python",
   "pygments_lexer": "ipython3",
   "version": "3.7.4"
  }
 },
 "nbformat": 4,
 "nbformat_minor": 2
}
