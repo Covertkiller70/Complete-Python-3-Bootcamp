{
 "cells": [
  {
   "cell_type": "markdown",
   "metadata": {},
   "source": [
    "# Numbers"
   ]
  },
  {
   "cell_type": "markdown",
   "metadata": {},
   "source": [
    "Find PI to the Nth Digit "
   ]
  },
  {
   "cell_type": "code",
   "execution_count": 3,
   "metadata": {},
   "outputs": [
    {
     "name": "stdout",
     "output_type": "stream",
     "text": [
      "How far back pi do you want to go? 1-16: 5\n",
      "3.141592653589793\n",
      "     5\n"
     ]
    }
   ],
   "source": [
    "import math\n",
    "\n",
    "pi = str(math.pi)\n",
    "end = len(pi) - 1 \n",
    "nth = input('How far back pi do you want to go? 1-' + str(end) + ': ')\n",
    "\n",
    "try:\n",
    "    nth = int(nth)\n",
    "except: \n",
    "    print(str(nth) + ' is not a number!')\n",
    "    exit(0)\n",
    "\n",
    "if nth > 0 and nth < len(pi):    \n",
    "    print(pi)\n",
    "    if nth == 1:\n",
    "        print(pi[0])\n",
    "    else:\n",
    "        space = ''\n",
    "        for i in range(0, nth):\n",
    "            space += ' '\n",
    "        \n",
    "        print(space + pi[nth])\n",
    "else:\n",
    "    print('Enter a number between 1 and ' + str(end) + '!')"
   ]
  },
  {
   "cell_type": "markdown",
   "metadata": {},
   "source": [
    "Find E to the Nth Digit "
   ]
  },
  {
   "cell_type": "code",
   "execution_count": 4,
   "metadata": {},
   "outputs": [
    {
     "name": "stdout",
     "output_type": "stream",
     "text": [
      "How far back e do you want to go? 1-16: 8\n",
      "2.718281828459045\n",
      "        8\n"
     ]
    }
   ],
   "source": [
    "import math\n",
    "\n",
    "e = str(math.e)\n",
    "end = len(e) - 1 \n",
    "nth = input('How far back e do you want to go? 1-' + str(end) + ': ')\n",
    "\n",
    "try:\n",
    "    nth = int(nth)\n",
    "except: \n",
    "    print(str(nth) + ' is not a number!')\n",
    "    exit(0)\n",
    "\n",
    "if nth > 0 and nth < len(e):    \n",
    "    print(e)\n",
    "    if nth == 1:\n",
    "        print(e[0])\n",
    "    else:        \n",
    "        space = ''\n",
    "        for i in range(0, nth):\n",
    "            space += ' '\n",
    "        print(space + e[nth])\n",
    "else:\n",
    "    print('Enter a number between 1 and ' + str(end) + '!')"
   ]
  },
  {
   "cell_type": "code",
   "execution_count": null,
   "metadata": {},
   "outputs": [],
   "source": []
  }
 ],
 "metadata": {
  "kernelspec": {
   "display_name": "Python 3",
   "language": "python",
   "name": "python3"
  },
  "language_info": {
   "codemirror_mode": {
    "name": "ipython",
    "version": 3
   },
   "file_extension": ".py",
   "mimetype": "text/x-python",
   "name": "python",
   "nbconvert_exporter": "python",
   "pygments_lexer": "ipython3",
   "version": "3.7.4"
  }
 },
 "nbformat": 4,
 "nbformat_minor": 2
}
